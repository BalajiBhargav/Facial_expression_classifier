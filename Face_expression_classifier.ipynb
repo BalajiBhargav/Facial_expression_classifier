{
  "nbformat": 4,
  "nbformat_minor": 0,
  "metadata": {
    "colab": {
      "name": "Face_expression_classifier.ipynb",
      "provenance": [],
      "collapsed_sections": []
    },
    "kernelspec": {
      "display_name": "Python 3",
      "name": "python3"
    },
    "language_info": {
      "name": "python"
    },
    "accelerator": "GPU"
  },
  "cells": [
    {
      "cell_type": "code",
      "metadata": {
        "id": "r-L7C3VE5oFE"
      },
      "source": [
        "# importing all the required libraries.\n",
        "import numpy as np\n",
        "import pandas as pd\n",
        "import os\n",
        "import tensorflow as tf\n",
        "from keras.preprocessing.image import ImageDataGenerator, load_img\n",
        "from keras.layers import Conv2D, Dense, BatchNormalization, Activation, Dropout, MaxPooling2D, Flatten\n",
        "from keras.optimizers import Adam, RMSprop, SGD\n",
        "from keras import regularizers\n",
        "from keras.callbacks import ModelCheckpoint, CSVLogger, TensorBoard, EarlyStopping, ReduceLROnPlateau\n",
        "import datetime\n",
        "import matplotlib.pyplot as plt\n",
        "from keras.utils import plot_model\n"
      ],
      "execution_count": 2,
      "outputs": []
    },
    {
      "cell_type": "code",
      "metadata": {
        "colab": {
          "base_uri": "https://localhost:8080/"
        },
        "id": "a77b6mnc5xhW",
        "outputId": "cc492120-f7f4-4b3c-b290-fdb142bb4b8b"
      },
      "source": [
        "# importing the dataset and just analysing it.\n",
        "from google.colab import drive\n",
        "drive.mount('/content/drive')"
      ],
      "execution_count": 3,
      "outputs": [
        {
          "output_type": "stream",
          "text": [
            "Mounted at /content/drive\n"
          ],
          "name": "stdout"
        }
      ]
    },
    {
      "cell_type": "code",
      "metadata": {
        "id": "CgPlq4Mv9sAn"
      },
      "source": [
        ""
      ],
      "execution_count": null,
      "outputs": []
    },
    {
      "cell_type": "code",
      "metadata": {
        "id": "iWyf1Gbi85W9"
      },
      "source": [
        "#Unzipping the folder\n",
        "!unzip -uq \"/content/drive/My Drive/Faceexpdata3_1.zip\" "
      ],
      "execution_count": 4,
      "outputs": []
    },
    {
      "cell_type": "code",
      "metadata": {
        "id": "wFFcxeUw9swq"
      },
      "source": [
        "train_dir = \"/content/Faceexpdata3_1/train_1/\"\n",
        "test_dir = \"/content/Faceexpdata3_1/test_1/\""
      ],
      "execution_count": 5,
      "outputs": []
    },
    {
      "cell_type": "code",
      "metadata": {
        "id": "SliqRP5Q-SxS"
      },
      "source": [
        "row, col = 48, 48\n",
        "classes = 4"
      ],
      "execution_count": 6,
      "outputs": []
    },
    {
      "cell_type": "code",
      "metadata": {
        "colab": {
          "base_uri": "https://localhost:8080/"
        },
        "id": "rSEF1hp7-WH8",
        "outputId": "94baf283-11a1-4168-aa15-162afa04d651"
      },
      "source": [
        "def count_exp(path, set_):\n",
        "    dict_ = {}\n",
        "    for expression in os.listdir(path):\n",
        "        dir_ = path + expression\n",
        "        dict_[expression] = len(os.listdir(dir_))\n",
        "    df = pd.DataFrame(dict_, index=[set_])\n",
        "    return df\n",
        "train_count = count_exp(train_dir, 'train')\n",
        "test_count = count_exp(test_dir, 'test')\n",
        "print(train_count)\n",
        "print(test_count)"
      ],
      "execution_count": 7,
      "outputs": [
        {
          "output_type": "stream",
          "text": [
            "       neutral  angry   sad  happy\n",
            "train     4965   3995  4830   7215\n",
            "      neutral  angry   sad  happy\n",
            "test     1233    958  1247   1774\n"
          ],
          "name": "stdout"
        }
      ]
    },
    {
      "cell_type": "code",
      "metadata": {
        "colab": {
          "base_uri": "https://localhost:8080/"
        },
        "id": "cE5TftpT-cDX",
        "outputId": "bf21b1cf-1305-4880-e18a-2aaa5fe79a36"
      },
      "source": [
        "# creating training and testing sets\n",
        "train_datagen = ImageDataGenerator(rescale=1./255, zoom_range=0.3, horizontal_flip=True)\n",
        "training_set = train_datagen.flow_from_directory(train_dir, batch_size=128, target_size=(48,48), shuffle=True, color_mode='grayscale', class_mode='categorical')"
      ],
      "execution_count": 8,
      "outputs": [
        {
          "output_type": "stream",
          "text": [
            "Found 21005 images belonging to 4 classes.\n"
          ],
          "name": "stdout"
        }
      ]
    },
    {
      "cell_type": "code",
      "metadata": {
        "colab": {
          "base_uri": "https://localhost:8080/"
        },
        "id": "_cR_Yeqd_Z-N",
        "outputId": "efec04ac-6f64-42f4-c000-7d4cabc6d9d2"
      },
      "source": [
        "test_datagen = ImageDataGenerator(rescale=1./255)\n",
        "test_set = test_datagen.flow_from_directory(test_dir, batch_size=128, target_size=(48,48), shuffle=True, color_mode='grayscale', class_mode='categorical')"
      ],
      "execution_count": 9,
      "outputs": [
        {
          "output_type": "stream",
          "text": [
            "Found 5212 images belonging to 4 classes.\n"
          ],
          "name": "stdout"
        }
      ]
    },
    {
      "cell_type": "code",
      "metadata": {
        "id": "Uc1QzNZf_iVL"
      },
      "source": [
        "# training_set.class_indices - angry-0, happy-1, neutral-2, sad-3.\n",
        "\n",
        "# defining model\n",
        "def get_model(input_size, classes=4):\n",
        "     #Initialising the CNN\n",
        "    model = tf.keras.models.Sequential()   \n",
        "\n",
        "    model.add(Conv2D(32, kernel_size=(3, 3), padding='same', activation='relu', input_shape =input_size))\n",
        "    model.add(Conv2D(64, kernel_size=(3, 3), activation='relu', padding='same'))\n",
        "    model.add(BatchNormalization())\n",
        "    model.add(MaxPooling2D(2, 2))\n",
        "    # model.add(Dropout(0.25))\n",
        "\n",
        "    model.add(Conv2D(128, kernel_size=(3, 3), activation='relu', padding='same', kernel_regularizer=regularizers.l2(0.01)))\n",
        "    model.add(Conv2D(256, kernel_size=(3, 3), activation='relu', kernel_regularizer=regularizers.l2(0.01)))\n",
        "    model.add(BatchNormalization())\n",
        "    model.add(MaxPooling2D(pool_size=(2, 2)))\n",
        "    # model.add(Dropout(0.25))\n",
        "    \n",
        "    model.add(Conv2D(512, kernel_size=(3,3), activation='relu', padding='same', kernel_regularizer=regularizers.l2(0.01)))\n",
        "    model.add(Conv2D(512, kernel_size=(3,3), activation='relu', padding='same', kernel_regularizer=regularizers.l2(0.01)))\n",
        "    model.add(BatchNormalization())\n",
        "    model.add(MaxPooling2D(pool_size=(2, 2)))\n",
        "    # model.add(Dropout(0.25))\n",
        "    \n",
        "    model.add(Flatten())\n",
        "    model.add(Dense(1024, activation='relu'))\n",
        "    # model.add(Dropout(0.5))\n",
        "    \n",
        "    model.add(Dense(classes, activation='softmax'))\n",
        "\n",
        "    #Compliling the model\n",
        "    model.compile(optimizer=Adam(lr=0.001, decay=1e-6), \n",
        "                  loss='categorical_crossentropy', \n",
        "                  metrics=['accuracy'])\n",
        "    return model"
      ],
      "execution_count": 10,
      "outputs": []
    },
    {
      "cell_type": "code",
      "metadata": {
        "id": "3eDgxi-l_pZf"
      },
      "source": [
        "fernet = get_model((row,col,1), classes)\n",
        "# fernet.summary() - this actually prints the summary like model type, layer types added, etc."
      ],
      "execution_count": 11,
      "outputs": []
    },
    {
      "cell_type": "code",
      "metadata": {
        "id": "YdFL87R5_tdu"
      },
      "source": [
        "chk_path = '/content/ferNet2.h5'\n",
        "log_dir = \"/content/checkpoint/logs/\" + datetime.datetime.now().strftime(\"%Y%m%d-%H%M%S\")\n",
        "\n",
        "checkpoint = ModelCheckpoint(filepath=chk_path,save_best_only=True,verbose=1,mode='auto',moniter='val_loss')\n",
        "\n",
        "earlystop = EarlyStopping(monitor='val_loss', min_delta=0, patience=3, verbose=1, restore_best_weights=True)\n",
        "                        \n",
        "reduce_lr = ReduceLROnPlateau(monitor='val_loss', factor=0.2, patience=6, verbose=1, min_delta=0.0001)"
      ],
      "execution_count": 12,
      "outputs": []
    },
    {
      "cell_type": "code",
      "metadata": {
        "id": "rw79iOW1_-BQ"
      },
      "source": [
        "tensorboard_callback = tf.keras.callbacks.TensorBoard(log_dir=log_dir, histogram_freq=1)\n",
        "csv_logger = CSVLogger('training.log')\n",
        "\n",
        "callbacks = [checkpoint, reduce_lr, csv_logger]\n",
        "\n",
        "# training the model"
      ],
      "execution_count": 13,
      "outputs": []
    },
    {
      "cell_type": "code",
      "metadata": {
        "colab": {
          "base_uri": "https://localhost:8080/"
        },
        "id": "MKLac3DdALxS",
        "outputId": "b15cb303-a50d-47cb-923a-5e9ab817f14a"
      },
      "source": [
        "\n",
        "steps_per_epoch = len(training_set)\n",
        "validation_steps = len(test_set)\n",
        "\n",
        "hist = fernet.fit(x=training_set, validation_data=test_set, epochs= 20, callbacks=callbacks, steps_per_epoch=steps_per_epoch, validation_steps=validation_steps)"
      ],
      "execution_count": 15,
      "outputs": [
        {
          "output_type": "stream",
          "text": [
            "Epoch 1/20\n",
            "165/165 [==============================] - 19s 114ms/step - loss: 0.9110 - accuracy: 0.6705 - val_loss: 0.9228 - val_accuracy: 0.6681\n",
            "\n",
            "Epoch 00001: val_loss improved from 0.94092 to 0.92281, saving model to /content/ferNet2.h5\n",
            "Epoch 2/20\n",
            "165/165 [==============================] - 19s 114ms/step - loss: 0.8939 - accuracy: 0.6778 - val_loss: 0.9389 - val_accuracy: 0.6637\n",
            "\n",
            "Epoch 00002: val_loss did not improve from 0.92281\n",
            "Epoch 3/20\n",
            "165/165 [==============================] - 19s 114ms/step - loss: 0.8996 - accuracy: 0.6781 - val_loss: 1.0477 - val_accuracy: 0.6113\n",
            "\n",
            "Epoch 00003: val_loss did not improve from 0.92281\n",
            "Epoch 4/20\n",
            "165/165 [==============================] - 19s 113ms/step - loss: 0.9094 - accuracy: 0.6734 - val_loss: 0.9658 - val_accuracy: 0.6447\n",
            "\n",
            "Epoch 00004: val_loss did not improve from 0.92281\n",
            "Epoch 5/20\n",
            "165/165 [==============================] - 18s 112ms/step - loss: 0.8993 - accuracy: 0.6790 - val_loss: 0.9284 - val_accuracy: 0.6646\n",
            "\n",
            "Epoch 00005: val_loss did not improve from 0.92281\n",
            "Epoch 6/20\n",
            "165/165 [==============================] - 18s 111ms/step - loss: 0.8775 - accuracy: 0.6884 - val_loss: 1.0114 - val_accuracy: 0.6341\n",
            "\n",
            "Epoch 00006: val_loss did not improve from 0.92281\n",
            "Epoch 7/20\n",
            "165/165 [==============================] - 19s 113ms/step - loss: 0.8796 - accuracy: 0.6849 - val_loss: 1.0122 - val_accuracy: 0.6262\n",
            "\n",
            "Epoch 00007: val_loss did not improve from 0.92281\n",
            "\n",
            "Epoch 00007: ReduceLROnPlateau reducing learning rate to 0.00020000000949949026.\n",
            "Epoch 8/20\n",
            "165/165 [==============================] - 19s 113ms/step - loss: 0.8018 - accuracy: 0.7184 - val_loss: 0.8598 - val_accuracy: 0.6903\n",
            "\n",
            "Epoch 00008: val_loss improved from 0.92281 to 0.85980, saving model to /content/ferNet2.h5\n",
            "Epoch 9/20\n",
            "165/165 [==============================] - 19s 113ms/step - loss: 0.7636 - accuracy: 0.7297 - val_loss: 0.8485 - val_accuracy: 0.6993\n",
            "\n",
            "Epoch 00009: val_loss improved from 0.85980 to 0.84848, saving model to /content/ferNet2.h5\n",
            "Epoch 10/20\n",
            "165/165 [==============================] - 19s 113ms/step - loss: 0.7477 - accuracy: 0.7361 - val_loss: 0.8400 - val_accuracy: 0.6955\n",
            "\n",
            "Epoch 00010: val_loss improved from 0.84848 to 0.83999, saving model to /content/ferNet2.h5\n",
            "Epoch 11/20\n",
            "165/165 [==============================] - 19s 113ms/step - loss: 0.7318 - accuracy: 0.7378 - val_loss: 0.8256 - val_accuracy: 0.7022\n",
            "\n",
            "Epoch 00011: val_loss improved from 0.83999 to 0.82558, saving model to /content/ferNet2.h5\n",
            "Epoch 12/20\n",
            "165/165 [==============================] - 19s 113ms/step - loss: 0.7195 - accuracy: 0.7443 - val_loss: 0.8312 - val_accuracy: 0.7015\n",
            "\n",
            "Epoch 00012: val_loss did not improve from 0.82558\n",
            "Epoch 13/20\n",
            "165/165 [==============================] - 19s 112ms/step - loss: 0.7100 - accuracy: 0.7473 - val_loss: 0.8063 - val_accuracy: 0.7086\n",
            "\n",
            "Epoch 00013: val_loss improved from 0.82558 to 0.80631, saving model to /content/ferNet2.h5\n",
            "Epoch 14/20\n",
            "165/165 [==============================] - 19s 113ms/step - loss: 0.7032 - accuracy: 0.7500 - val_loss: 0.8286 - val_accuracy: 0.7005\n",
            "\n",
            "Epoch 00014: val_loss did not improve from 0.80631\n",
            "Epoch 15/20\n",
            "165/165 [==============================] - 19s 112ms/step - loss: 0.6930 - accuracy: 0.7517 - val_loss: 0.8412 - val_accuracy: 0.6917\n",
            "\n",
            "Epoch 00015: val_loss did not improve from 0.80631\n",
            "Epoch 16/20\n",
            "165/165 [==============================] - 19s 113ms/step - loss: 0.6817 - accuracy: 0.7563 - val_loss: 0.8209 - val_accuracy: 0.7011\n",
            "\n",
            "Epoch 00016: val_loss did not improve from 0.80631\n",
            "Epoch 17/20\n",
            "165/165 [==============================] - 19s 113ms/step - loss: 0.6803 - accuracy: 0.7581 - val_loss: 0.8284 - val_accuracy: 0.7082\n",
            "\n",
            "Epoch 00017: val_loss did not improve from 0.80631\n",
            "Epoch 18/20\n",
            "165/165 [==============================] - 19s 112ms/step - loss: 0.6705 - accuracy: 0.7620 - val_loss: 0.8169 - val_accuracy: 0.7072\n",
            "\n",
            "Epoch 00018: val_loss did not improve from 0.80631\n",
            "Epoch 19/20\n",
            "165/165 [==============================] - 18s 112ms/step - loss: 0.6581 - accuracy: 0.7663 - val_loss: 0.8206 - val_accuracy: 0.7034\n",
            "\n",
            "Epoch 00019: val_loss did not improve from 0.80631\n",
            "\n",
            "Epoch 00019: ReduceLROnPlateau reducing learning rate to 4.0000001899898055e-05.\n",
            "Epoch 20/20\n",
            "165/165 [==============================] - 18s 112ms/step - loss: 0.6327 - accuracy: 0.7770 - val_loss: 0.7974 - val_accuracy: 0.7139\n",
            "\n",
            "Epoch 00020: val_loss improved from 0.80631 to 0.79739, saving model to /content/ferNet2.h5\n"
          ],
          "name": "stdout"
        }
      ]
    },
    {
      "cell_type": "code",
      "metadata": {
        "colab": {
          "base_uri": "https://localhost:8080/",
          "height": 350
        },
        "id": "Ovd6bDk2AbCQ",
        "outputId": "14bfebcc-a710-4b51-b00c-b7fe547585a4"
      },
      "source": [
        "# loss and accuracy plot\n",
        "plt.figure(figsize=(14,5))\n",
        "plt.subplot(1,2,2)\n",
        "plt.plot(hist.history['accuracy'])\n",
        "plt.plot(hist.history['val_accuracy'])\n",
        "plt.title('Model Accuracy')\n",
        "plt.xlabel('Epochs')\n",
        "plt.ylabel('Accuracy')\n",
        "plt.legend(['train', 'test'], loc='upper left')\n",
        "\n",
        "plt.subplot(1,2,1)\n",
        "plt.plot(hist.history['loss'])\n",
        "plt.plot(hist.history['val_loss'])\n",
        "plt.title('model Loss')\n",
        "plt.xlabel('Epochs')\n",
        "plt.ylabel('Loss')\n",
        "plt.legend(['train', 'test'], loc='upper left')\n",
        "plt.show()"
      ],
      "execution_count": 16,
      "outputs": [
        {
          "output_type": "display_data",
          "data": {
            "image/png": "[encoded data removed]",
            "text/plain": [
              "<Figure size 1008x360 with 2 Axes>"
            ]
          },
          "metadata": {
            "tags": [],
            "needs_background": "light"
          }
        }
      ]
    },
    {
      "cell_type": "code",
      "metadata": {
        "id": "EZxk_5PuGdf2"
      },
      "source": [
        ""
      ],
      "execution_count": null,
      "outputs": []
    }
  ]
}